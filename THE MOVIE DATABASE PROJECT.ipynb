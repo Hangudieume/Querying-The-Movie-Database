{
 "cells": [
  {
   "cell_type": "code",
   "execution_count": null,
   "id": "8ec122d5",
   "metadata": {},
   "outputs": [],
   "source": [
    "# Loading and activating the SQL extension to allow us to execute SQL in a Jupyter notebook.\n",
    "\n",
    "%load_ext sql"
   ]
  },
  {
   "cell_type": "code",
   "execution_count": null,
   "id": "23856a24",
   "metadata": {},
   "outputs": [],
   "source": [
    "# Establishing a connection to the local database\n",
    "\n",
    "%sql sqlite:///TMDB-a-4006.db"
   ]
  },
  {
   "cell_type": "markdown",
   "id": "03b784ab",
   "metadata": {},
   "source": [
    "### Question 1\n",
    "\n",
    "Who won the Oscar for “Actor in a Leading Role” in  2015?"
   ]
  },
  {
   "cell_type": "code",
   "execution_count": null,
   "id": "58e5d9bf",
   "metadata": {},
   "outputs": [],
   "source": [
    "%%sql\n",
    "SELECT\n",
    "    *\n",
    "FROM\n",
    "    oscars\n",
    "WHERE\n",
    "    year = 2015\n",
    "AND\n",
    "    award = 'Actor in a Leading Role'\n",
    "AND\n",
    "    winner = 1.0;"
   ]
  },
  {
   "cell_type": "markdown",
   "id": "70e1a732",
   "metadata": {},
   "source": [
    "### Question 2\n",
    "\n",
    "What are the ten oldest movies in the database?"
   ]
  },
  {
   "cell_type": "code",
   "execution_count": null,
   "id": "03539777",
   "metadata": {},
   "outputs": [],
   "source": [
    "%%sql\n",
    "SELECT\n",
    "    movie_id,\n",
    "    title,\n",
    "    release_date\n",
    "FROM\n",
    "    movies\n",
    "WHERE\n",
    "    release_date IS NOT NULL\n",
    "ORDER BY\n",
    "    release_date ASC\n",
    "lIMIT\n",
    "    10;"
   ]
  },
  {
   "cell_type": "markdown",
   "id": "67dcaf8a",
   "metadata": {},
   "source": [
    "### Question 3\n",
    "\n",
    "How many unique awards are there in the Oscars table?"
   ]
  },
  {
   "cell_type": "code",
   "execution_count": null,
   "id": "6af0a19b",
   "metadata": {},
   "outputs": [],
   "source": [
    "%%sql\n",
    "SELECT\n",
    "    COUNT(DISTINCT award)\n",
    "FROM\n",
    "    oscars;"
   ]
  },
  {
   "cell_type": "markdown",
   "id": "ff832239",
   "metadata": {},
   "source": [
    "### Question 4\n",
    "\n",
    "How many movies are there that contain the word “Spider” within their title?"
   ]
  },
  {
   "cell_type": "code",
   "execution_count": null,
   "id": "bfe3e5b8",
   "metadata": {},
   "outputs": [],
   "source": [
    "%%sql\n",
    "SELECT\n",
    "    COUNT(DISTINCT title)\n",
    "FROM\n",
    "    movies\n",
    "WHERE\n",
    "    title\n",
    "LIKE\n",
    "    '%Spider%';"
   ]
  },
  {
   "cell_type": "markdown",
   "id": "72b352de",
   "metadata": {},
   "source": [
    "### Question 5\n",
    "\n",
    "How many movies are there that are both in the \"Thriller\" genre and contain the word “love” anywhere in the keywords?"
   ]
  },
  {
   "cell_type": "code",
   "execution_count": null,
   "id": "9328a717",
   "metadata": {},
   "outputs": [],
   "source": [
    "%%sql\n",
    "SELECT\n",
    "    COUNT(DISTINCT movies.movie_id) AS No_of_Movies_with_Thriller_love\n",
    "FROM\n",
    "    movies\n",
    "JOIN\n",
    "    keywordmap\n",
    "ON\n",
    "    movies.movie_id = keywordmap.movie_id\n",
    "JOIN\n",
    "    keywords\n",
    "ON\n",
    "    keywordmap.keyword_id = keywords.keyword_id\n",
    "JOIN\n",
    "    genremap\n",
    "ON\n",
    "    movies.movie_id = genremap.movie_id\n",
    "JOIN\n",
    "    genres\n",
    "ON\n",
    "    genremap.genre_id = genres.genre_id\n",
    "\n",
    "WHERE\n",
    "    genre_name = 'Thriller'\n",
    "AND\n",
    "    keyword_name\n",
    "LIKE\n",
    "    '%love%';"
   ]
  }
 ],
 "metadata": {
  "kernelspec": {
   "display_name": "Python 3 (ipykernel)",
   "language": "python",
   "name": "python3"
  },
  "language_info": {
   "codemirror_mode": {
    "name": "ipython",
    "version": 3
   },
   "file_extension": ".py",
   "mimetype": "text/x-python",
   "name": "python",
   "nbconvert_exporter": "python",
   "pygments_lexer": "ipython3",
   "version": "3.9.12"
  }
 },
 "nbformat": 4,
 "nbformat_minor": 5
}
